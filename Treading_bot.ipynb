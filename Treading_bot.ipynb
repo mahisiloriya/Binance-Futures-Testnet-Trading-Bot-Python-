{
  "nbformat": 4,
  "nbformat_minor": 0,
  "metadata": {
    "colab": {
      "provenance": []
    },
    "kernelspec": {
      "name": "python3",
      "display_name": "Python 3"
    },
    "language_info": {
      "name": "python"
    }
  },
  "cells": [
    {
      "cell_type": "code",
      "source": [
        "pip install python-binance"
      ],
      "metadata": {
        "id": "mjf2gVoysF8e",
        "colab": {
          "base_uri": "https://localhost:8080/"
        },
        "outputId": "5001686c-92e1-4829-9b6d-18dcc7a5e7a7"
      },
      "execution_count": 3,
      "outputs": [
        {
          "output_type": "stream",
          "name": "stdout",
          "text": [
            "Collecting python-binance\n",
            "  Downloading python_binance-1.0.29-py2.py3-none-any.whl.metadata (13 kB)\n",
            "Requirement already satisfied: requests in /usr/local/lib/python3.11/dist-packages (from python-binance) (2.32.3)\n",
            "Requirement already satisfied: six in /usr/local/lib/python3.11/dist-packages (from python-binance) (1.17.0)\n",
            "Collecting dateparser (from python-binance)\n",
            "  Downloading dateparser-1.2.2-py3-none-any.whl.metadata (29 kB)\n",
            "Requirement already satisfied: aiohttp in /usr/local/lib/python3.11/dist-packages (from python-binance) (3.12.15)\n",
            "Requirement already satisfied: websockets in /usr/local/lib/python3.11/dist-packages (from python-binance) (15.0.1)\n",
            "Collecting pycryptodome (from python-binance)\n",
            "  Downloading pycryptodome-3.23.0-cp37-abi3-manylinux_2_17_x86_64.manylinux2014_x86_64.whl.metadata (3.4 kB)\n",
            "Requirement already satisfied: aiohappyeyeballs>=2.5.0 in /usr/local/lib/python3.11/dist-packages (from aiohttp->python-binance) (2.6.1)\n",
            "Requirement already satisfied: aiosignal>=1.4.0 in /usr/local/lib/python3.11/dist-packages (from aiohttp->python-binance) (1.4.0)\n",
            "Requirement already satisfied: attrs>=17.3.0 in /usr/local/lib/python3.11/dist-packages (from aiohttp->python-binance) (25.3.0)\n",
            "Requirement already satisfied: frozenlist>=1.1.1 in /usr/local/lib/python3.11/dist-packages (from aiohttp->python-binance) (1.7.0)\n",
            "Requirement already satisfied: multidict<7.0,>=4.5 in /usr/local/lib/python3.11/dist-packages (from aiohttp->python-binance) (6.6.3)\n",
            "Requirement already satisfied: propcache>=0.2.0 in /usr/local/lib/python3.11/dist-packages (from aiohttp->python-binance) (0.3.2)\n",
            "Requirement already satisfied: yarl<2.0,>=1.17.0 in /usr/local/lib/python3.11/dist-packages (from aiohttp->python-binance) (1.20.1)\n",
            "Requirement already satisfied: python-dateutil>=2.7.0 in /usr/local/lib/python3.11/dist-packages (from dateparser->python-binance) (2.9.0.post0)\n",
            "Requirement already satisfied: pytz>=2024.2 in /usr/local/lib/python3.11/dist-packages (from dateparser->python-binance) (2025.2)\n",
            "Requirement already satisfied: regex>=2024.9.11 in /usr/local/lib/python3.11/dist-packages (from dateparser->python-binance) (2024.11.6)\n",
            "Requirement already satisfied: tzlocal>=0.2 in /usr/local/lib/python3.11/dist-packages (from dateparser->python-binance) (5.3.1)\n",
            "Requirement already satisfied: charset-normalizer<4,>=2 in /usr/local/lib/python3.11/dist-packages (from requests->python-binance) (3.4.2)\n",
            "Requirement already satisfied: idna<4,>=2.5 in /usr/local/lib/python3.11/dist-packages (from requests->python-binance) (3.10)\n",
            "Requirement already satisfied: urllib3<3,>=1.21.1 in /usr/local/lib/python3.11/dist-packages (from requests->python-binance) (2.5.0)\n",
            "Requirement already satisfied: certifi>=2017.4.17 in /usr/local/lib/python3.11/dist-packages (from requests->python-binance) (2025.8.3)\n",
            "Requirement already satisfied: typing-extensions>=4.2 in /usr/local/lib/python3.11/dist-packages (from aiosignal>=1.4.0->aiohttp->python-binance) (4.14.1)\n",
            "Downloading python_binance-1.0.29-py2.py3-none-any.whl (130 kB)\n",
            "\u001b[2K   \u001b[90m━━━━━━━━━━━━━━━━━━━━━━━━━━━━━━━━━━━━━━━━\u001b[0m \u001b[32m130.8/130.8 kB\u001b[0m \u001b[31m8.5 MB/s\u001b[0m eta \u001b[36m0:00:00\u001b[0m\n",
            "\u001b[?25hDownloading dateparser-1.2.2-py3-none-any.whl (315 kB)\n",
            "\u001b[2K   \u001b[90m━━━━━━━━━━━━━━━━━━━━━━━━━━━━━━━━━━━━━━━━\u001b[0m \u001b[32m315.5/315.5 kB\u001b[0m \u001b[31m22.7 MB/s\u001b[0m eta \u001b[36m0:00:00\u001b[0m\n",
            "\u001b[?25hDownloading pycryptodome-3.23.0-cp37-abi3-manylinux_2_17_x86_64.manylinux2014_x86_64.whl (2.3 MB)\n",
            "\u001b[2K   \u001b[90m━━━━━━━━━━━━━━━━━━━━━━━━━━━━━━━━━━━━━━━━\u001b[0m \u001b[32m2.3/2.3 MB\u001b[0m \u001b[31m74.2 MB/s\u001b[0m eta \u001b[36m0:00:00\u001b[0m\n",
            "\u001b[?25hInstalling collected packages: pycryptodome, dateparser, python-binance\n",
            "Successfully installed dateparser-1.2.2 pycryptodome-3.23.0 python-binance-1.0.29\n"
          ]
        }
      ]
    },
    {
      "cell_type": "code",
      "source": [
        "from  binance import Client\n",
        "import logging\n",
        "from binance.enums import *\n",
        "import sys\n",
        "\n",
        "\n",
        "logging.basicConfig(\n",
        "    filename=\"mybot.log\",\n",
        "    level=logging.INFO,\n",
        "    format=\"%(asctime)s - %(levelname)s - %(message)s\"\n",
        ")\n",
        "\n",
        "\n",
        "class BasicBot:\n",
        "  def __init__(self ,api_key , screat_key, testnet=True):\n",
        "    self.client = Client(api , screat , testnet=testnet)\n",
        "\n",
        "\n",
        "    if testnet:\n",
        "      self.client.FUTURES_URL = 'https://testnet.binancefuture.com/fapi'\n",
        "\n",
        "    print(\"Bot Connnected with Binance Futures Test\")\n",
        "\n",
        "  def place_order(self, symbol , side, order_type , quantity , price=None):\n",
        "    try:\n",
        "      if order_type == 'LIMIT':\n",
        "        order = self.client.futures_create_order(\n",
        "            symbol = symbol,\n",
        "            side = side,\n",
        "            type = FUTURE_ORDER_TYPE_LIMIT ,\n",
        "            quantity = quantity ,\n",
        "            price = price ,\n",
        "            timeInForce  = TIME_IN_FORCE_GTC\n",
        "        )\n",
        "\n",
        "      elif order_type == 'MARKET':\n",
        "        order = self.client.futures_create_order(\n",
        "            symbol = symbol,\n",
        "            side = side ,\n",
        "            type = FUTURE_ORDER_TYPE_MARKET ,\n",
        "            quantity = quantity\n",
        "        )\n",
        "\n",
        "      else :\n",
        "        print(\"invalid Order type : USE market or limit\")\n",
        "        return None\n",
        "\n",
        "      logging.info(f\"Order placed successfully : { order }\")\n",
        "      return order\n",
        "\n",
        "\n",
        "\n",
        "    except Exception as e :\n",
        "      logging.error(f\"error placing order :{e}\")\n",
        "      print(f\"Error placing order : {e}\")\n",
        "      return None"
      ],
      "metadata": {
        "id": "mniYkN4fSo4m"
      },
      "execution_count": 34,
      "outputs": []
    },
    {
      "cell_type": "code",
      "source": [
        "if __name__ == '__main__':\n",
        "\n",
        "  api = \"2384b2dc2aaa42a5c0074cbd3065f05cdb070d0caf54ffeaba6dd0975025853b\"\n",
        "  screat = \"d0b12c1f856ae1c844180047bd8a03579398d740fb77bc2569aa53abc09bdee0\"\n",
        "\n",
        "  bot = BasicBot(api , screat)\n",
        "\n",
        "  symbol = input(\"Enter symbol (e.g. , BTCUSDT)\").upper()\n",
        "  side = input(\"Enter side (BUY/SELL)\").upper()\n",
        "  order_type = input(\"Enter order type (MARKET/LIMIT):\").upper()\n",
        "  quantity = float(input(\"Enter quantity: \"))\n",
        "\n",
        "  price = None\n",
        "  if order_type == 'LIMIT':\n",
        "    price = float(input(\"Enter price:\"))\n",
        "\n",
        "  order_result = bot.place_order(symbol,side,order_type,quantity ,price)\n",
        "\n",
        "  if order_result:\n",
        "    print(\"\\n Order placed Successfully \")\n",
        "    print(f\"Order Details , {order_result}\")\n",
        "\n",
        "  else:\n",
        "    print(\"\\n order failed.\")\n"
      ],
      "metadata": {
        "id": "Bz3q52cvncUm",
        "colab": {
          "base_uri": "https://localhost:8080/"
        },
        "outputId": "7ffbc2f1-c9b4-4ca5-fbd9-a7fb34e87e8e"
      },
      "execution_count": 35,
      "outputs": [
        {
          "output_type": "stream",
          "name": "stdout",
          "text": [
            "Bot Connnected with Binance Futures Test\n",
            "Enter symbol (e.g. , BTCUSDT)BTCUSDT\n",
            "Enter side (BUY/SELL)buy\n",
            "Enter order type (MARKET/LIMIT):market\n",
            "Enter quantity: 0.1\n",
            "\n",
            " Order placed Successfully \n",
            "Order Details , {'orderId': 5579047614, 'symbol': 'BTCUSDT', 'status': 'NEW', 'clientOrderId': 'x-Cb7ytekJdc7566a3e5283db0038759', 'price': '0.00', 'avgPrice': '0.00', 'origQty': '0.100', 'executedQty': '0.000', 'cumQty': '0.000', 'cumQuote': '0.00000', 'timeInForce': 'GTC', 'type': 'MARKET', 'reduceOnly': False, 'closePosition': False, 'side': 'BUY', 'positionSide': 'BOTH', 'stopPrice': '0.00', 'workingType': 'CONTRACT_PRICE', 'priceProtect': False, 'origType': 'MARKET', 'priceMatch': 'NONE', 'selfTradePreventionMode': 'EXPIRE_MAKER', 'goodTillDate': 0, 'updateTime': 1755091494529}\n"
          ]
        }
      ]
    },
    {
      "cell_type": "code",
      "source": [
        "if __name__ == '__main__':\n",
        "\n",
        "  api = \"2384b2dc2aaa42a5c0074cbd3065f05cdb070d0caf54ffeaba6dd0975025852a\"\n",
        "  screat = \"d0b12c1f856ae1c844180047bd8a03579398d740fb77bc2569aa53abc09bdee0\"\n",
        "\n",
        "  bot = BasicBot(api , screat)\n",
        "\n",
        "  symbol = input(\"Enter symbol (e.g. , BTCUSDT)\").upper()\n",
        "  side = input(\"Enter side (BUY/SELL)\").upper()\n",
        "  order_type = input(\"Enter order type (MARKET/LIMIT):\").upper()\n",
        "  quantity = float(input(\"Enter quantity: \"))\n",
        "\n",
        "  price = None\n",
        "  if order_type == 'LIMIT':\n",
        "    price = float(input(\"Enter price:\"))\n",
        "\n",
        "  order_result = bot.place_order(symbol,side,order_type,quantity ,price)\n",
        "\n",
        "  if order_result:\n",
        "    print(\"\\n Order placed Successfully \")\n",
        "    print(f\"Order Details , {order_result}\")\n",
        "\n",
        "  else:\n",
        "    print(\"\\n order failed.\")\n"
      ],
      "metadata": {
        "id": "DKjlKk-Indb7",
        "colab": {
          "base_uri": "https://localhost:8080/"
        },
        "outputId": "d880ed49-72b1-4a79-b032-45cecc8083cc"
      },
      "execution_count": 36,
      "outputs": [
        {
          "output_type": "stream",
          "name": "stdout",
          "text": [
            "Bot Connnected with Binance Futures Test\n",
            "Enter symbol (e.g. , BTCUSDT)BTCUSDT\n",
            "Enter side (BUY/SELL)sell\n",
            "Enter order type (MARKET/LIMIT):market\n",
            "Enter quantity: 0.1\n",
            "\n",
            " Order placed Successfully \n",
            "Order Details , {'orderId': 5579049219, 'symbol': 'BTCUSDT', 'status': 'NEW', 'clientOrderId': 'x-Cb7ytekJ28b66d73c082ad398cf5ae', 'price': '0.00', 'avgPrice': '0.00', 'origQty': '0.100', 'executedQty': '0.000', 'cumQty': '0.000', 'cumQuote': '0.00000', 'timeInForce': 'GTC', 'type': 'MARKET', 'reduceOnly': False, 'closePosition': False, 'side': 'SELL', 'positionSide': 'BOTH', 'stopPrice': '0.00', 'workingType': 'CONTRACT_PRICE', 'priceProtect': False, 'origType': 'MARKET', 'priceMatch': 'NONE', 'selfTradePreventionMode': 'EXPIRE_MAKER', 'goodTillDate': 0, 'updateTime': 1755091534715}\n"
          ]
        }
      ]
    }
  ]
}